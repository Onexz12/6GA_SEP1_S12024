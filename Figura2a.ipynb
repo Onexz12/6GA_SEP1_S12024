{
 "cells": [
  {
   "cell_type": "code",
   "execution_count": 4,
   "metadata": {},
   "outputs": [
    {
     "ename": "ImportError",
     "evalue": "cannot import name 'Inf' from 'numpy' (/Library/Frameworks/Python.framework/Versions/3.12/lib/python3.12/site-packages/numpy/__init__.py)",
     "output_type": "error",
     "traceback": [
      "\u001b[0;31m---------------------------------------------------------------------------\u001b[0m",
      "\u001b[0;31mImportError\u001b[0m                               Traceback (most recent call last)",
      "Cell \u001b[0;32mIn[4], line 3\u001b[0m\n\u001b[1;32m      1\u001b[0m \u001b[38;5;28;01mimport\u001b[39;00m \u001b[38;5;21;01mnumpy\u001b[39;00m \u001b[38;5;28;01mas\u001b[39;00m \u001b[38;5;21;01mnp\u001b[39;00m\n\u001b[1;32m      2\u001b[0m \u001b[38;5;28;01mimport\u001b[39;00m \u001b[38;5;21;01mmatplotlib\u001b[39;00m\u001b[38;5;21;01m.\u001b[39;00m\u001b[38;5;21;01mpyplot\u001b[39;00m \u001b[38;5;28;01mas\u001b[39;00m \u001b[38;5;21;01mplt\u001b[39;00m\n\u001b[0;32m----> 3\u001b[0m \u001b[38;5;28;01mimport\u001b[39;00m \u001b[38;5;21;01mpandapower\u001b[39;00m \u001b[38;5;28;01mas\u001b[39;00m \u001b[38;5;21;01mpp\u001b[39;00m\n\u001b[1;32m      4\u001b[0m \u001b[38;5;28;01mimport\u001b[39;00m \u001b[38;5;21;01mmath\u001b[39;00m\n\u001b[1;32m      6\u001b[0m \u001b[38;5;66;03m#Para la creación de este modelo se asume un sistema trifásico, con voltaje linea-linea de 220[kV],\u001b[39;00m\n\u001b[1;32m      7\u001b[0m \u001b[38;5;66;03m#analizamos el circuito equivalente para 1 fase \u001b[39;00m\n\u001b[1;32m      8\u001b[0m \n\u001b[1;32m      9\u001b[0m \u001b[38;5;66;03m#definimos los parámetros\u001b[39;00m\n",
      "File \u001b[0;32m/Library/Frameworks/Python.framework/Versions/3.12/lib/python3.12/site-packages/pandapower/__init__.py:11\u001b[0m\n\u001b[1;32m      9\u001b[0m \u001b[38;5;28;01mfrom\u001b[39;00m \u001b[38;5;21;01mpandapower\u001b[39;00m\u001b[38;5;21;01m.\u001b[39;00m\u001b[38;5;21;01mfile_io\u001b[39;00m \u001b[38;5;28;01mimport\u001b[39;00m \u001b[38;5;241m*\u001b[39m\n\u001b[1;32m     10\u001b[0m \u001b[38;5;28;01mfrom\u001b[39;00m \u001b[38;5;21;01mpandapower\u001b[39;00m\u001b[38;5;21;01m.\u001b[39;00m\u001b[38;5;21;01msql_io\u001b[39;00m \u001b[38;5;28;01mimport\u001b[39;00m to_postgresql, from_postgresql, delete_postgresql_net, to_sqlite, from_sqlite\n\u001b[0;32m---> 11\u001b[0m \u001b[38;5;28;01mfrom\u001b[39;00m \u001b[38;5;21;01mpandapower\u001b[39;00m\u001b[38;5;21;01m.\u001b[39;00m\u001b[38;5;21;01mpowerflow\u001b[39;00m \u001b[38;5;28;01mimport\u001b[39;00m \u001b[38;5;241m*\u001b[39m\n\u001b[1;32m     12\u001b[0m \u001b[38;5;28;01mfrom\u001b[39;00m \u001b[38;5;21;01mpandapower\u001b[39;00m\u001b[38;5;21;01m.\u001b[39;00m\u001b[38;5;21;01moptimal_powerflow\u001b[39;00m \u001b[38;5;28;01mimport\u001b[39;00m OPFNotConverged\n\u001b[1;32m     13\u001b[0m \u001b[38;5;28;01mfrom\u001b[39;00m \u001b[38;5;21;01mpandapower\u001b[39;00m\u001b[38;5;21;01m.\u001b[39;00m\u001b[38;5;21;01mrun\u001b[39;00m \u001b[38;5;28;01mimport\u001b[39;00m \u001b[38;5;241m*\u001b[39m\n",
      "File \u001b[0;32m/Library/Frameworks/Python.framework/Versions/3.12/lib/python3.12/site-packages/pandapower/powerflow.py:13\u001b[0m\n\u001b[1;32m     11\u001b[0m \u001b[38;5;28;01mfrom\u001b[39;00m \u001b[38;5;21;01mpandapower\u001b[39;00m\u001b[38;5;21;01m.\u001b[39;00m\u001b[38;5;21;01mpd2ppc\u001b[39;00m \u001b[38;5;28;01mimport\u001b[39;00m _pd2ppc, _calc_pq_elements_and_add_on_ppc, _ppc2ppci\n\u001b[1;32m     12\u001b[0m \u001b[38;5;28;01mfrom\u001b[39;00m \u001b[38;5;21;01mpandapower\u001b[39;00m\u001b[38;5;21;01m.\u001b[39;00m\u001b[38;5;21;01mpf\u001b[39;00m\u001b[38;5;21;01m.\u001b[39;00m\u001b[38;5;21;01mppci_variables\u001b[39;00m \u001b[38;5;28;01mimport\u001b[39;00m _get_pf_variables_from_ppci\n\u001b[0;32m---> 13\u001b[0m \u001b[38;5;28;01mfrom\u001b[39;00m \u001b[38;5;21;01mpandapower\u001b[39;00m\u001b[38;5;21;01m.\u001b[39;00m\u001b[38;5;21;01mpf\u001b[39;00m\u001b[38;5;21;01m.\u001b[39;00m\u001b[38;5;21;01mrun_bfswpf\u001b[39;00m \u001b[38;5;28;01mimport\u001b[39;00m _run_bfswpf\n\u001b[1;32m     14\u001b[0m \u001b[38;5;28;01mfrom\u001b[39;00m \u001b[38;5;21;01mpandapower\u001b[39;00m\u001b[38;5;21;01m.\u001b[39;00m\u001b[38;5;21;01mpf\u001b[39;00m\u001b[38;5;21;01m.\u001b[39;00m\u001b[38;5;21;01mrun_dc_pf\u001b[39;00m \u001b[38;5;28;01mimport\u001b[39;00m _run_dc_pf\n\u001b[1;32m     15\u001b[0m \u001b[38;5;28;01mfrom\u001b[39;00m \u001b[38;5;21;01mpandapower\u001b[39;00m\u001b[38;5;21;01m.\u001b[39;00m\u001b[38;5;21;01mpf\u001b[39;00m\u001b[38;5;21;01m.\u001b[39;00m\u001b[38;5;21;01mrun_newton_raphson_pf\u001b[39;00m \u001b[38;5;28;01mimport\u001b[39;00m _run_newton_raphson_pf\n",
      "File \u001b[0;32m/Library/Frameworks/Python.framework/Versions/3.12/lib/python3.12/site-packages/pandapower/pf/run_bfswpf.py:20\u001b[0m\n\u001b[1;32m     18\u001b[0m \u001b[38;5;28;01mfrom\u001b[39;00m \u001b[38;5;21;01mpandapower\u001b[39;00m\u001b[38;5;21;01m.\u001b[39;00m\u001b[38;5;21;01mauxiliary\u001b[39;00m \u001b[38;5;28;01mimport\u001b[39;00m ppException\n\u001b[1;32m     19\u001b[0m \u001b[38;5;28;01mfrom\u001b[39;00m \u001b[38;5;21;01mpandapower\u001b[39;00m\u001b[38;5;21;01m.\u001b[39;00m\u001b[38;5;21;01mpypower\u001b[39;00m\u001b[38;5;21;01m.\u001b[39;00m\u001b[38;5;21;01mbustypes\u001b[39;00m \u001b[38;5;28;01mimport\u001b[39;00m bustypes\n\u001b[0;32m---> 20\u001b[0m \u001b[38;5;28;01mfrom\u001b[39;00m \u001b[38;5;21;01mpandapower\u001b[39;00m\u001b[38;5;21;01m.\u001b[39;00m\u001b[38;5;21;01mpypower\u001b[39;00m\u001b[38;5;21;01m.\u001b[39;00m\u001b[38;5;21;01mnewtonpf\u001b[39;00m \u001b[38;5;28;01mimport\u001b[39;00m _evaluate_Fx, _check_for_convergence\n\u001b[1;32m     21\u001b[0m \u001b[38;5;28;01mfrom\u001b[39;00m \u001b[38;5;21;01mpandapower\u001b[39;00m\u001b[38;5;21;01m.\u001b[39;00m\u001b[38;5;21;01mpypower\u001b[39;00m\u001b[38;5;21;01m.\u001b[39;00m\u001b[38;5;21;01mpfsoln\u001b[39;00m \u001b[38;5;28;01mimport\u001b[39;00m pfsoln\n\u001b[1;32m     22\u001b[0m \u001b[38;5;28;01mfrom\u001b[39;00m \u001b[38;5;21;01mpandapower\u001b[39;00m\u001b[38;5;21;01m.\u001b[39;00m\u001b[38;5;21;01mpf\u001b[39;00m\u001b[38;5;21;01m.\u001b[39;00m\u001b[38;5;21;01mrun_newton_raphson_pf\u001b[39;00m \u001b[38;5;28;01mimport\u001b[39;00m _get_Y_bus\n",
      "File \u001b[0;32m/Library/Frameworks/Python.framework/Versions/3.12/lib/python3.12/site-packages/pandapower/pypower/newtonpf.py:14\u001b[0m\n\u001b[1;32m     11\u001b[0m \u001b[38;5;124;03m\"\"\"Solves the power flow using a full Newton's method.\u001b[39;00m\n\u001b[1;32m     12\u001b[0m \u001b[38;5;124;03m\"\"\"\u001b[39;00m\n\u001b[1;32m     13\u001b[0m \u001b[38;5;28;01mimport\u001b[39;00m \u001b[38;5;21;01mnumpy\u001b[39;00m \u001b[38;5;28;01mas\u001b[39;00m \u001b[38;5;21;01mnp\u001b[39;00m\n\u001b[0;32m---> 14\u001b[0m \u001b[38;5;28;01mfrom\u001b[39;00m \u001b[38;5;21;01mnumpy\u001b[39;00m \u001b[38;5;28;01mimport\u001b[39;00m float64, array, angle, sqrt, square, exp, linalg, conj, r_, Inf, arange, zeros, \\\n\u001b[1;32m     15\u001b[0m     \u001b[38;5;28mmax\u001b[39m, zeros_like, column_stack, flatnonzero, nan_to_num\n\u001b[1;32m     16\u001b[0m \u001b[38;5;28;01mfrom\u001b[39;00m \u001b[38;5;21;01mscipy\u001b[39;00m\u001b[38;5;21;01m.\u001b[39;00m\u001b[38;5;21;01msparse\u001b[39;00m \u001b[38;5;28;01mimport\u001b[39;00m csr_matrix, eye, vstack\n\u001b[1;32m     17\u001b[0m \u001b[38;5;28;01mfrom\u001b[39;00m \u001b[38;5;21;01mscipy\u001b[39;00m\u001b[38;5;21;01m.\u001b[39;00m\u001b[38;5;21;01msparse\u001b[39;00m\u001b[38;5;21;01m.\u001b[39;00m\u001b[38;5;21;01mlinalg\u001b[39;00m \u001b[38;5;28;01mimport\u001b[39;00m spsolve\n",
      "\u001b[0;31mImportError\u001b[0m: cannot import name 'Inf' from 'numpy' (/Library/Frameworks/Python.framework/Versions/3.12/lib/python3.12/site-packages/numpy/__init__.py)"
     ]
    }
   ],
   "source": [
    "\n",
    "\n",
    "import numpy as np\n",
    "import matplotlib.pyplot as plt\n",
    "import pandapower as pp\n",
    "import math\n",
    "\n",
    "# Para la creación de este modelo se asume un sistema trifásico, con voltaje linea-linea de 220[kV],\n",
    "# analizamos el circuito equivalente para 1 fase\n",
    "\n",
    "# Definimos los parámetros\n",
    "f = 50  # frecuencia del sistema en [Hz]\n",
    "\n",
    "Vg_LL = 220  # voltaje de la línea en [kV]\n",
    "Imax = 0.457  # corriente máxima en las líneas [kA]\n",
    "\n",
    "# Respecto a la carga\n",
    "P = 150  # potencia activa en [MW]\n",
    "Q = 100  # potencia reactiva en [Mvar]\n",
    "\n",
    "# Crear red eléctrica\n",
    "net = pp.create_empty_network()\n",
    "\n",
    "# Añadir barras\n",
    "bus1 = pp.create_bus(net, vn_kv=Vg_LL, name=\"Barra 1\", slack=True)  # Barra 1 es designada como slack\n",
    "bus2 = pp.create_bus(net, vn_kv=Vg_LL, name=\"Barra 2\")  # Barra 2 se conecta la carga\n",
    "bus1A = pp.create_bus(net, vn_kv=Vg_LL, name=\"Barra 1A\")  # Barra 1A se conecta la carga\n",
    "bus2A = pp.create_bus(net, vn_kv=Vg_LL, name=\"Barra 2A\")  # Barra 2A se conecta la carga\n",
    "bus3A = pp.create_bus(net, vn_kv=Vg_LL, name=\"Barra 3A\")  # Barra 3A se conecta la carga\n",
    "bus2B = pp.create_bus(net, vn_kv=Vg_LL, name=\"Barra 2B\")  # Barra 2B se conecta la carga\n",
    "bus1B = pp.create_bus(net, vn_kv=Vg_LL, name=\"Barra 1B\")  # Barra 1B se conecta la carga\n",
    "\n",
    "# Añadir líneas\n",
    "pp.create_line(net, from_bus=bus2, to_bus=bus1A, length_km=10, std_type=\"N2XS(FL)2Y 1x185 RM/35 64/110 kV\", in_service=True)\n",
    "pp.create_line(net, from_bus=bus1A, to_bus=bus2A, length_km=15, std_type=\"N2XS(FL)2Y 1x185 RM/35 64/110 kV\", in_service=True)\n",
    "pp.create_line(net, from_bus=bus2A, to_bus=bus3A, length_km=20, std_type=\"N2XS(FL)2Y 1x185 RM/35 64/110 kV\", in_service=True)\n",
    "pp.create_line(net, from_bus=bus3A, to_bus=bus2B, length_km=15, std_type=\"N2XS(FL)2Y 1x185 RM/35 64/110 kV\", in_service=True)\n",
    "pp.create_line(net, from_bus=bus2B, to_bus=bus1B, length_km=30, std_type=\"N2XS(FL)2Y 1x185 RM/35 64/110 kV\", in_service=True)\n",
    "pp.create_line(net, from_bus=bus1B, to_bus=bus2, length_km=10, std_type=\"N2XS(FL)2Y 1x185 RM/35 64/110 kV\", in_service=True)\n",
    "\n",
    "# Añadir carga\n",
    "pp.create_load(net, bus=bus1A, p_mw=0.2*P, q_mvar=0.2*Q)\n",
    "pp.create_load(net, bus=bus2A, p_mw=0.35*P, q_mvar=0.35*Q)\n",
    "pp.create_load(net, bus=bus3A, p_mw=0.15*P, q_mvar=0.15*Q)\n",
    "pp.create_load(net, bus=bus2B, p_mw=0.6*P, q_mvar=0.6*Q)\n",
    "pp.create_load(net, bus=bus1A, p_mw=0.1*P, q_mvar=0.1*Q)\n",
    "\n",
    "# Se añade fuente de generación conectada en la barra 1, (1[pu], el voltaje nominal [kV] se define en la barra a la que está conectada)\n",
    "pp.create_ext_grid(net, bus=bus1, vm_pu=1, va_degree=0.0)\n",
    "\n",
    "# Se añade transformador de 100 MVA 220/110 kV entre la barra 1 y la barra 2\n",
    "pp.create_transformer(net, hv_bus=bus2, lv_bus=bus1, name=\"trafo1\", std_type=\"100 MVA 220/110 kV\")\n",
    "\n",
    "# Simular el flujo de carga\n",
    "pp.runpp(net)\n",
    "\n",
    "# Imprimir resultados de las barras\n",
    "print(net.res_bus)\n",
    "\n",
    "# Graficar el diagrama de la red\n",
    "pp.plotting.simple_plot(net)\n",
    "\n"
   ]
  }
 ],
 "metadata": {
  "kernelspec": {
   "display_name": "Python 3",
   "language": "python",
   "name": "python3"
  },
  "language_info": {
   "codemirror_mode": {
    "name": "ipython",
    "version": 3
   },
   "file_extension": ".py",
   "mimetype": "text/x-python",
   "name": "python",
   "nbconvert_exporter": "python",
   "pygments_lexer": "ipython3",
   "version": "3.12.3"
  }
 },
 "nbformat": 4,
 "nbformat_minor": 2
}
