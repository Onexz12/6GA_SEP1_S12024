{
 "cells": [
  {
   "cell_type": "code",
   "execution_count": 1,
   "metadata": {},
   "outputs": [
    {
     "ename": "ModuleNotFoundError",
     "evalue": "No module named 'pandapower'",
     "output_type": "error",
     "traceback": [
      "\u001b[1;31m---------------------------------------------------------------------------\u001b[0m",
      "\u001b[1;31mModuleNotFoundError\u001b[0m                       Traceback (most recent call last)",
      "Cell \u001b[1;32mIn[1], line 1\u001b[0m\n\u001b[1;32m----> 1\u001b[0m \u001b[38;5;28;01mimport\u001b[39;00m \u001b[38;5;21;01mpandapower\u001b[39;00m \u001b[38;5;28;01mas\u001b[39;00m \u001b[38;5;21;01mpp\u001b[39;00m\n\u001b[0;32m      2\u001b[0m \u001b[38;5;28;01mimport\u001b[39;00m \u001b[38;5;21;01mnumpy\u001b[39;00m \u001b[38;5;28;01mas\u001b[39;00m \u001b[38;5;21;01mnp\u001b[39;00m\n\u001b[0;32m      3\u001b[0m \u001b[38;5;28;01mimport\u001b[39;00m \u001b[38;5;21;01mmatplotlib\u001b[39;00m\u001b[38;5;21;01m.\u001b[39;00m\u001b[38;5;21;01mpyplot\u001b[39;00m \u001b[38;5;28;01mas\u001b[39;00m \u001b[38;5;21;01mplt\u001b[39;00m\n",
      "\u001b[1;31mModuleNotFoundError\u001b[0m: No module named 'pandapower'"
     ]
    }
   ],
   "source": [
    "import pandapower as pp\n",
    "import numpy as np\n",
    "import matplotlib.pyplot as plt\n",
    "\n",
    "# Crear red eléctrica vacía\n",
    "net = pp.create_empty_network()\n",
    "\n",
    "# Añadir barras al sistema\n",
    "bus1 = pp.create_bus(net, vn_kv=220)  # Barra 1\n",
    "bus2 = pp.create_bus(net, vn_kv=220)  # Barra 2\n",
    "\n",
    "# Añadir línea entre las barras 1 y 2\n",
    "line1 = pp.create_line(net, from_bus=bus1, to_bus=bus2, length_km=500, r_ohm_per_km=0.02, x_ohm_per_km=0.115, c_nf_per_km=19.1)\n",
    "\n",
    "# Definir la potencia nominal de la carga\n",
    "p_nominal_mw = 1200\n",
    "\n",
    "# Definir los niveles de carga (±50%)\n",
    "p_mw_levels = np.linspace(0.5 * p_nominal_mw, 1.5 * p_nominal_mw, 11)\n",
    "\n",
    "# Almacenar los resultados de tensión\n",
    "voltages = []\n",
    "\n",
    "# Realizar simulaciones para cada nivel de carga\n",
    "for p_mw in p_mw_levels:\n",
    "    # Añadir la carga en la barra 2\n",
    "    load = pp.create_load(net, bus=bus2, p_mw=p_mw, q_mvar=pp.create_cosphi_from_pq(p_mw, 0.9))\n",
    "    \n",
    "    # Ejecutar el flujo de carga\n",
    "    pp.runpp(net)\n",
    "    \n",
    "    # Almacenar los resultados de tensión en la barra 2\n",
    "    voltage_bus2 = net.res_bus.at[bus2, 'vm_pu']\n",
    "    voltages.append(voltage_bus2)\n",
    "\n",
    "# Graficar el comportamiento de la tensión para cada nivel de carga\n",
    "plt.plot(p_mw_levels, voltages, marker='o')\n",
    "plt.xlabel('Potencia de carga (MW)')\n",
    "plt.ylabel('Tensión en Barra 2 (pu)')\n",
    "plt.title('Comportamiento de la tensión vs Potencia de carga')\n",
    "plt.grid(True)\n",
    "plt.show()"
   ]
  },
  {
   "cell_type": "code",
   "execution_count": 3,
   "metadata": {},
   "outputs": [
    {
     "ename": "ModuleNotFoundError",
     "evalue": "No module named 'pandapower'",
     "output_type": "error",
     "traceback": [
      "\u001b[1;31m---------------------------------------------------------------------------\u001b[0m",
      "\u001b[1;31mModuleNotFoundError\u001b[0m                       Traceback (most recent call last)",
      "Cell \u001b[1;32mIn[3], line 1\u001b[0m\n\u001b[1;32m----> 1\u001b[0m \u001b[38;5;28;01mimport\u001b[39;00m \u001b[38;5;21;01mpandapower\u001b[39;00m \u001b[38;5;28;01mas\u001b[39;00m \u001b[38;5;21;01mpp\u001b[39;00m\n\u001b[0;32m      2\u001b[0m \u001b[38;5;28mprint\u001b[39m(pp\u001b[38;5;241m.\u001b[39m__version__)\n",
      "\u001b[1;31mModuleNotFoundError\u001b[0m: No module named 'pandapower'"
     ]
    }
   ],
   "source": [
    "import pandapower as pp\n",
    "print(pp.__version__)"
   ]
  }
 ],
 "metadata": {
  "kernelspec": {
   "display_name": "Python 3",
   "language": "python",
   "name": "python3"
  },
  "language_info": {
   "codemirror_mode": {
    "name": "ipython",
    "version": 3
   },
   "file_extension": ".py",
   "mimetype": "text/x-python",
   "name": "python",
   "nbconvert_exporter": "python",
   "pygments_lexer": "ipython3",
   "version": "3.12.3"
  }
 },
 "nbformat": 4,
 "nbformat_minor": 2
}
